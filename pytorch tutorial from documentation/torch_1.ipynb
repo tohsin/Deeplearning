{
  "nbformat": 4,
  "nbformat_minor": 0,
  "metadata": {
    "colab": {
      "name": "torch 1.ipynb",
      "provenance": []
    },
    "kernelspec": {
      "name": "python3",
      "display_name": "Python 3"
    }
  },
  "cells": [
    {
      "cell_type": "code",
      "metadata": {
        "id": "2LA43zpJNK4l"
      },
      "source": [
        "import torch\n",
        "from __future__ import print_function\n"
      ],
      "execution_count": 2,
      "outputs": []
    },
    {
      "cell_type": "code",
      "metadata": {
        "colab": {
          "base_uri": "https://localhost:8080/"
        },
        "id": "TCZft5B0PU9w",
        "outputId": "9bbd44fc-e336-4503-a40e-0337718a1e37"
      },
      "source": [
        "#create tensor 5 by 3\n",
        "x=torch.empty(5,3)\n",
        "print(x)"
      ],
      "execution_count": 7,
      "outputs": [
        {
          "output_type": "stream",
          "text": [
            "tensor([[4.4600e-36, 0.0000e+00, 3.3631e-44],\n",
            "        [0.0000e+00,        nan, 1.6255e-43],\n",
            "        [4.4721e+21, 1.5956e+25, 4.7399e+16],\n",
            "        [3.7293e-08, 1.4838e-41, 1.6115e-43],\n",
            "        [1.5554e-43, 1.5975e-43, 1.4778e-36]])\n"
          ],
          "name": "stdout"
        }
      ]
    },
    {
      "cell_type": "code",
      "metadata": {
        "colab": {
          "base_uri": "https://localhost:8080/"
        },
        "id": "J62ZSOD2PtNF",
        "outputId": "038a0d9f-85ec-4717-ad1a-c3bde5f0a14b"
      },
      "source": [
        "x = torch.rand(5, 3)\n",
        "print(x)"
      ],
      "execution_count": 9,
      "outputs": [
        {
          "output_type": "stream",
          "text": [
            "tensor([[0.9320, 0.2079, 0.5955],\n",
            "        [0.0668, 0.0041, 0.8018],\n",
            "        [0.3723, 0.7436, 0.0803],\n",
            "        [0.4417, 0.5896, 0.4965],\n",
            "        [0.6528, 0.2378, 0.8813]])\n"
          ],
          "name": "stdout"
        }
      ]
    },
    {
      "cell_type": "code",
      "metadata": {
        "colab": {
          "base_uri": "https://localhost:8080/"
        },
        "id": "wIxBnHckP4ct",
        "outputId": "b423a24f-f89a-4d27-ba29-05d87545c966"
      },
      "source": [
        "x=torch.zeros(5,3,dtype=torch.long)\n",
        "print(x)"
      ],
      "execution_count": 12,
      "outputs": [
        {
          "output_type": "stream",
          "text": [
            "tensor([[0, 0, 0],\n",
            "        [0, 0, 0],\n",
            "        [0, 0, 0],\n",
            "        [0, 0, 0],\n",
            "        [0, 0, 0]])\n"
          ],
          "name": "stdout"
        }
      ]
    },
    {
      "cell_type": "code",
      "metadata": {
        "colab": {
          "base_uri": "https://localhost:8080/"
        },
        "id": "zxhHCPakQGPt",
        "outputId": "92cd530d-34f2-4e65-8d28-27bcb3caaf7c"
      },
      "source": [
        "#torch from data\n",
        "x=torch.tensor([5.5,3])\n",
        "print(x)"
      ],
      "execution_count": 13,
      "outputs": [
        {
          "output_type": "stream",
          "text": [
            "tensor([5.5000, 3.0000])\n"
          ],
          "name": "stdout"
        }
      ]
    },
    {
      "cell_type": "code",
      "metadata": {
        "id": "iiE2UjkCQaWQ"
      },
      "source": [
        "x = x.new_ones(5, 3, dtype=torch.double)      #to create tensor from old one\n",
        "x = torch.randn_like(x, dtype=torch.float)   # to copy shpae of tensor"
      ],
      "execution_count": 14,
      "outputs": []
    },
    {
      "cell_type": "code",
      "metadata": {
        "colab": {
          "base_uri": "https://localhost:8080/"
        },
        "id": "m12o_3afQrVm",
        "outputId": "8d611fa4-ad51-494f-9aea-5c38d489c126"
      },
      "source": [
        "print(x.size())\n",
        "#to rezize a tensor use view\n",
        "x = torch.randn(4, 4)\n",
        "y = x.view(16)\n",
        "z = x.view(-1, 8)  # the size -1 is inferred from other dimensions\n",
        "print(x.size(), y.size(), z.size())"
      ],
      "execution_count": 15,
      "outputs": [
        {
          "output_type": "stream",
          "text": [
            "torch.Size([5, 3])\n"
          ],
          "name": "stdout"
        }
      ]
    },
    {
      "cell_type": "code",
      "metadata": {
        "colab": {
          "base_uri": "https://localhost:8080/"
        },
        "id": "VS08YC33RhwK",
        "outputId": "f647a18c-40bd-49fd-dcb9-0427961225d3"
      },
      "source": [
        "import numpy as np\n",
        "#convert numpy to torch\n",
        "a=np.array([5,3,5])\n",
        "b=torch.from_numpy(a)\n",
        "print(b)"
      ],
      "execution_count": 16,
      "outputs": [
        {
          "output_type": "stream",
          "text": [
            "tensor([5, 3, 5])\n"
          ],
          "name": "stdout"
        }
      ]
    },
    {
      "cell_type": "code",
      "metadata": {
        "colab": {
          "base_uri": "https://localhost:8080/"
        },
        "id": "YAdAUfhWSPGP",
        "outputId": "e3c51a1d-055d-4f35-c262-aeba53257bcd"
      },
      "source": [
        "#to perform back prop you have to enable grad on vlaues and specify the one that get updated\n",
        "x=torch.ones(2,2,requires_grad=True);\n",
        "y=x+2\n",
        "print(y)\n",
        "print(x)"
      ],
      "execution_count": 25,
      "outputs": [
        {
          "output_type": "stream",
          "text": [
            "tensor([[3., 3.],\n",
            "        [3., 3.]], grad_fn=<AddBackward0>)\n",
            "tensor([[1., 1.],\n",
            "        [1., 1.]], requires_grad=True)\n"
          ],
          "name": "stdout"
        }
      ]
    },
    {
      "cell_type": "code",
      "metadata": {
        "colab": {
          "base_uri": "https://localhost:8080/"
        },
        "id": "bzhHwUwjS07x",
        "outputId": "6b7087f0-d443-4d6e-cdfa-70c3369642f5"
      },
      "source": [
        "#more operations to see how far it goes\n",
        "z = y * y * 3\n",
        "out = z.mean()\n",
        "print(z,out)"
      ],
      "execution_count": 26,
      "outputs": [
        {
          "output_type": "stream",
          "text": [
            "tensor([[27., 27.],\n",
            "        [27., 27.]], grad_fn=<MulBackward0>) tensor(27., grad_fn=<MeanBackward0>)\n"
          ],
          "name": "stdout"
        }
      ]
    },
    {
      "cell_type": "code",
      "metadata": {
        "colab": {
          "base_uri": "https://localhost:8080/"
        },
        "id": "6qTAS-22TPUD",
        "outputId": "ae70bffa-062f-4de2-eb9f-331eaa5d9b37"
      },
      "source": [
        "#to turn existing tensor to use back prop\n",
        "a = torch.randn(2, 2)\n",
        "a = ((a * 3) / (a - 1))\n",
        "print(a.requires_grad)\n",
        "a.requires_grad_(True)\n",
        "print(a.requires_grad)"
      ],
      "execution_count": 22,
      "outputs": [
        {
          "output_type": "stream",
          "text": [
            "False\n",
            "True\n"
          ],
          "name": "stdout"
        }
      ]
    },
    {
      "cell_type": "code",
      "metadata": {
        "colab": {
          "base_uri": "https://localhost:8080/"
        },
        "id": "0pnxhQ3ITcGg",
        "outputId": "ba14ab6a-fbed-4ea4-a7cf-d95aa2583fd5"
      },
      "source": [
        "#now to back prop\n",
        "out.backward()\n",
        "print(x.grad)"
      ],
      "execution_count": 27,
      "outputs": [
        {
          "output_type": "stream",
          "text": [
            "tensor([[4.5000, 4.5000],\n",
            "        [4.5000, 4.5000]])\n"
          ],
          "name": "stdout"
        }
      ]
    },
    {
      "cell_type": "code",
      "metadata": {
        "colab": {
          "base_uri": "https://localhost:8080/"
        },
        "id": "7TAMaMJCTlYJ",
        "outputId": "7587db9a-5b76-40ac-88c6-ef49f94dc55a"
      },
      "source": [
        "#we had diffrential of (x+2)^2 *3=3(x+2)^2\n",
        "#z=3(x+2)^2\n",
        "#out=z.mean=21\n",
        "#diffrential do/dx=3/2(x+2)=9/2 at x=1 =4.5"
      ],
      "execution_count": 23,
      "outputs": [
        {
          "output_type": "stream",
          "text": [
            "None\n"
          ],
          "name": "stdout"
        }
      ]
    },
    {
      "cell_type": "code",
      "metadata": {
        "id": "d2ConDFYVQUi"
      },
      "source": [
        "#to stop tracking gradients\n",
        "print(x.requires_grad)\n",
        "print((x ** 2).requires_grad)\n",
        "\n",
        "with torch.no_grad():\n",
        "    print((x ** 2).requires_grad)"
      ],
      "execution_count": null,
      "outputs": []
    },
    {
      "cell_type": "code",
      "metadata": {
        "colab": {
          "base_uri": "https://localhost:8080/"
        },
        "id": "YuOp5EuNVaXU",
        "outputId": "89702344-3873-4ce2-bc2c-eeaf2cb208ae"
      },
      "source": [
        "print(x.requires_grad)\n",
        "y = x.detach()\n",
        "print(y.requires_grad)\n",
        "print(x.eq(y).all())"
      ],
      "execution_count": 28,
      "outputs": [
        {
          "output_type": "stream",
          "text": [
            "True\n",
            "False\n",
            "tensor(True)\n"
          ],
          "name": "stdout"
        }
      ]
    }
  ]
}