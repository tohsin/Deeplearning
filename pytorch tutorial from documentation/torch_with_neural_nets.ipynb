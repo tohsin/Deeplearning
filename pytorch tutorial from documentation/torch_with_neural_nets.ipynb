{
  "nbformat": 4,
  "nbformat_minor": 0,
  "metadata": {
    "colab": {
      "name": "torch with neural nets.ipynb",
      "provenance": [],
      "authorship_tag": "ABX9TyMADF+6YlVNEW95BXM2qyR6"
    },
    "kernelspec": {
      "name": "python3",
      "display_name": "Python 3"
    }
  },
  "cells": [
    {
      "cell_type": "code",
      "metadata": {
        "id": "i98dpK7aVoT-"
      },
      "source": [
        "import torch\n",
        "import torch.nn as nn\n",
        "import torch.nn.functional as F"
      ],
      "execution_count": 1,
      "outputs": []
    },
    {
      "cell_type": "code",
      "metadata": {
        "id": "My0pPMfYWac0"
      },
      "source": [
        "class NeuralNet(nn.Module):\n",
        "  def __init__(self):\n",
        "    super(NeuralNet,self).__init__()\n",
        "      #we using gray scale image in this case so input channel is 1\n",
        "      #out channels secound parameter is number pf feature maps\n",
        "      #last one is kernel\n",
        "    self.conv1=nn.Conv2d(1, 6, 3)\n",
        "    self.conv2=nn.Conv2d(6,16,3)\n",
        "      #add fully conencted layer\n",
        "    self.fc1=nn.Linear(16*6*6,120) # 6 *6 for image size 120 is output\n",
        "    self.fc2=nn.Linear(120,84)\n",
        "    self.fc3=nn.Linear(84,10)#softmax\n",
        "  def forward(self,x):\n",
        "    #max pool over a 2,2 window\n",
        "    x=F.max_pool2d(F.relu(self.conv1(x)),(2,2))\n",
        "    x=F.max_pool2d(F.relu(self.conv2(x)),(2))\n",
        "    #if size is square you can only  specify a specifc number\n",
        "    x=x.view(-1,self.num_flat_features(x)) #infer from data and use the other vlaue to resize in this case a flat one\n",
        "    x = F.relu(self.fc1(x))\n",
        "    x = F.relu(self.fc2(x))\n",
        "    x = self.fc3(x)\n",
        "    return x\n",
        "  def num_flat_features(self,x):\n",
        "    size=x.size()[1:] \n",
        "    # all dimenions except the batch dimension\n",
        "    num_features = 1\n",
        "    for s in size:\n",
        "            num_features *= s\n",
        "    return num_features"
      ],
      "execution_count": 2,
      "outputs": []
    },
    {
      "cell_type": "code",
      "metadata": {
        "id": "pfHXnd2zWjt2",
        "colab": {
          "base_uri": "https://localhost:8080/"
        },
        "outputId": "d4c19b8d-71a1-48d0-9de5-8c8670b70044"
      },
      "source": [
        "net=NeuralNet()\n",
        "print(net)"
      ],
      "execution_count": 3,
      "outputs": [
        {
          "output_type": "stream",
          "text": [
            "NeuralNet(\n",
            "  (conv1): Conv2d(1, 6, kernel_size=(3, 3), stride=(1, 1))\n",
            "  (conv2): Conv2d(6, 16, kernel_size=(3, 3), stride=(1, 1))\n",
            "  (fc1): Linear(in_features=576, out_features=120, bias=True)\n",
            "  (fc2): Linear(in_features=120, out_features=84, bias=True)\n",
            "  (fc3): Linear(in_features=84, out_features=10, bias=True)\n",
            ")\n"
          ],
          "name": "stdout"
        }
      ]
    },
    {
      "cell_type": "code",
      "metadata": {
        "colab": {
          "base_uri": "https://localhost:8080/"
        },
        "id": "yePWhndMkECt",
        "outputId": "7a593dec-cfae-463b-8aa0-13f719f70f36"
      },
      "source": [
        "params = list(net.parameters())#learnable parameters are stored in .parameters\n",
        "print(len(params))\n",
        "print(params[0].size()) #weights"
      ],
      "execution_count": 4,
      "outputs": [
        {
          "output_type": "stream",
          "text": [
            "10\n",
            "torch.Size([6, 1, 3, 3])\n"
          ],
          "name": "stdout"
        }
      ]
    },
    {
      "cell_type": "code",
      "metadata": {
        "colab": {
          "base_uri": "https://localhost:8080/"
        },
        "id": "X8rjK4K2ky3T",
        "outputId": "df450b09-38f7-4b40-913b-9bd0f272fedb"
      },
      "source": [
        "input = torch.randn(1, 1, 32, 32)\n",
        "out = net(input)\n",
        "print(out)"
      ],
      "execution_count": 5,
      "outputs": [
        {
          "output_type": "stream",
          "text": [
            "tensor([[-0.0333, -0.0050,  0.0733, -0.0045,  0.0793,  0.0538, -0.0758, -0.0772,\n",
            "         -0.1246, -0.0929]], grad_fn=<AddmmBackward>)\n"
          ],
          "name": "stdout"
        }
      ]
    },
    {
      "cell_type": "code",
      "metadata": {
        "id": "Go3kc-RksS08"
      },
      "source": [
        "#loss function\n",
        "output=net(input)\n",
        "target=torch.rand(10)\n",
        "target=target.view(1,-1) #1 dimensional 1,10 ,-1 to infer the value\n",
        "criterion=nn.MSELoss()\n",
        "loss=criterion(output,target)"
      ],
      "execution_count": 7,
      "outputs": []
    },
    {
      "cell_type": "code",
      "metadata": {
        "colab": {
          "base_uri": "https://localhost:8080/"
        },
        "id": "SMECjL15tUil",
        "outputId": "c4f54b58-540d-4879-c937-08c96768bcfe"
      },
      "source": [
        "net.zero_grad()     # zeroes the gradient buffers of all parameters\n",
        "\n",
        "print('conv1.bias.grad before backward')\n",
        "print(net.conv1.bias.grad)\n",
        "\n",
        "loss.backward()\n",
        "\n",
        "print('conv1.bias.grad after backward')\n",
        "print(net.conv1.bias.grad)"
      ],
      "execution_count": 10,
      "outputs": [
        {
          "output_type": "stream",
          "text": [
            "conv1.bias.grad before backward\n",
            "None\n",
            "conv1.bias.grad after backward\n",
            "tensor([-0.0051,  0.0052, -0.0057, -0.0063, -0.0047,  0.0004])\n"
          ],
          "name": "stdout"
        }
      ]
    },
    {
      "cell_type": "code",
      "metadata": {
        "id": "a113etN7uFmO"
      },
      "source": [
        "learning_rate=0.01\n",
        "for f in net.parameters():\n",
        "    f.data.sub_(f.grad.data * learning_rate)"
      ],
      "execution_count": 11,
      "outputs": []
    },
    {
      "cell_type": "code",
      "metadata": {
        "id": "EHZIzMxducxj"
      },
      "source": [
        "import torch.optim as optim\n",
        "\n",
        "optimizer=optim.SGD(net.parameters(),lr=0.01)\n",
        "output=net(input)\n",
        "loss=criterion(output,target)\n",
        "loss.backward()\n",
        "optimizer.step()"
      ],
      "execution_count": 12,
      "outputs": []
    }
  ]
}